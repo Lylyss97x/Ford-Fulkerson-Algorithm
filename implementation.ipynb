{
 "cells": [
  {
   "cell_type": "code",
   "execution_count": 8,
   "metadata": {},
   "outputs": [
    {
     "name": "stdout",
     "output_type": "stream",
     "text": [
      "Le flux maximal est: 16\n"
     ]
    }
   ],
   "source": [
    "import time\n",
    "\n",
    "class Perfo:\n",
    "\n",
    "    def timeExecution(functionCalled, *args):\n",
    "\n",
    "        start_time = time.time()\n",
    "        functionCalled(args)\n",
    "        return start_time - time.time()\n",
    "\n",
    "class FordFulkerson:\n",
    "\n",
    "    def __init__(self, graph, source_node, sink_node):\n",
    "        self.graph = graph \n",
    "        self.source_node = source_node  \n",
    "        self.sink_node = sink_node \n",
    "        self.n = len(graph) \n",
    "        self.flow = [[0] * self.n for _ in range(self.n)]\n",
    "\n",
    "\n",
    "    def dfs(self, source, sink, visited, path):\n",
    "        \n",
    "        if source == sink:\n",
    "            return path\n",
    "        visited[source] = True\n",
    "\n",
    "        for v in range(self.n):\n",
    "            if not visited[v] and self.graph[source][v] - self.flow[source][v] > 0:\n",
    "                min_cap = min(path[-1][1], self.graph[source][v] - self.flow[source][v]) if path else self.graph[source][v]\n",
    "                result = self.dfs(v, sink, visited, path + [(v, min_cap)])\n",
    "                if result:\n",
    "                    return result\n",
    "        return None\n",
    "\n",
    "\n",
    "\n",
    "\n",
    "\n",
    "\n",
    "\n"
   ]
  }
 ],
 "metadata": {
  "kernelspec": {
   "display_name": "Python 3",
   "language": "python",
   "name": "python3"
  },
  "language_info": {
   "codemirror_mode": {
    "name": "ipython",
    "version": 3
   },
   "file_extension": ".py",
   "mimetype": "text/x-python",
   "name": "python",
   "nbconvert_exporter": "python",
   "pygments_lexer": "ipython3",
   "version": "3.12.2"
  }
 },
 "nbformat": 4,
 "nbformat_minor": 2
}
