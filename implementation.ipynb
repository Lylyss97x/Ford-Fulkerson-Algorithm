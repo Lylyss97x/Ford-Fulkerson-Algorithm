{
 "cells": [
  {
   "cell_type": "code",
   "execution_count": null,
   "metadata": {},
   "outputs": [],
   "source": [
    "class FordFulkerson:\n",
    "\n",
    "    def __init__(self, graph, source_node, sink_node):\n",
    "        self.graph = graph\n",
    "        self.source_node = source_node\n",
    "        self.sink_node = sink_node\n",
    "\n",
    "class searchMethod:\n",
    "\n",
    "    def dfs():\n",
    "        \n"
   ]
  }
 ],
 "metadata": {
  "kernelspec": {
   "display_name": "Python 3",
   "language": "python",
   "name": "python3"
  },
  "language_info": {
   "name": "python",
   "version": "3.12.2"
  }
 },
 "nbformat": 4,
 "nbformat_minor": 2
}
